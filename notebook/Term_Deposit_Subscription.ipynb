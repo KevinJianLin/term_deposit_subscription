{
 "cells": [
  {
   "cell_type": "markdown",
   "metadata": {},
   "source": [
    "**Table of contents**<a id='toc0_'></a>    \n",
    "- [Feature selection](#toc1_1_)    \n",
    "    - [Principle Component Analysis](#toc1_1_1_)    \n",
    "    - [Feature importance from tree-based models (e.g., Random Forest)](#toc1_1_2_)    \n",
    "- [model](#toc2_)    \n",
    "\n",
    "<!-- vscode-jupyter-toc-config\n",
    "\tnumbering=false\n",
    "\tanchor=true\n",
    "\tflat=false\n",
    "\tminLevel=1\n",
    "\tmaxLevel=6\n",
    "\t/vscode-jupyter-toc-config -->\n",
    "<!-- THIS CELL WILL BE REPLACED ON TOC UPDATE. DO NOT WRITE YOUR TEXT IN THIS CELL -->"
   ]
  },
  {
   "cell_type": "code",
   "execution_count": 1,
   "metadata": {},
   "outputs": [
    {
     "data": {
      "text/html": [
       "<style>.container { width:50% !important; }</style>"
      ],
      "text/plain": [
       "<IPython.core.display.HTML object>"
      ]
     },
     "metadata": {},
     "output_type": "display_data"
    },
    {
     "data": {
      "text/html": [
       "<style>.container { width:130% !important; }</style>"
      ],
      "text/plain": [
       "<IPython.core.display.HTML object>"
      ]
     },
     "metadata": {},
     "output_type": "display_data"
    }
   ],
   "source": [
    "import pandas as pd\n",
    "import numpy as np\n",
    "import re\n",
    "from IPython.display import display, HTML\n",
    "import sys\n",
    "import os\n",
    "\n",
    "import warnings\n",
    "warnings.filterwarnings(\"ignore\")\n",
    "sys.path.append('../src/')\n",
    "\n",
    "import utility\n",
    "from utility import *\n",
    "from sklearn.preprocessing import LabelEncoder\n",
    "\n",
    "\n",
    "from IPython.core.interactiveshell import InteractiveShell\n",
    "InteractiveShell.ast_node_interactivity = \"all\"\n",
    "\n",
    "display(HTML(\"<style>.container { width:50% !important; }</style>\"))\n",
    "#display(HTML('<style>.output { max-width:800px !important; }</style>')) # control output width\n",
    "display(HTML(\"<style>.container { width:130% !important; }</style>\"))\n",
    "\n",
    "pd.set_option('display.max_columns', None)   # Show number of columns, None means show all columns\n",
    "pd.set_option('display.max_rows', 50)        # show top and bottom 15, middle with ......\n",
    "pd.set_option('display.width', None)         # Set the width of the display\n",
    "pd.set_option('display.max_colwidth', None)  # Show full content of each column"
   ]
  },
  {
   "cell_type": "code",
   "execution_count": 2,
   "metadata": {},
   "outputs": [
    {
     "data": {
      "text/html": [
       "<div>\n",
       "<style scoped>\n",
       "    .dataframe tbody tr th:only-of-type {\n",
       "        vertical-align: middle;\n",
       "    }\n",
       "\n",
       "    .dataframe tbody tr th {\n",
       "        vertical-align: top;\n",
       "    }\n",
       "\n",
       "    .dataframe thead th {\n",
       "        text-align: right;\n",
       "    }\n",
       "</style>\n",
       "<table border=\"1\" class=\"dataframe\">\n",
       "  <thead>\n",
       "    <tr style=\"text-align: right;\">\n",
       "      <th></th>\n",
       "      <th>ID</th>\n",
       "      <th>age</th>\n",
       "      <th>job</th>\n",
       "      <th>marital</th>\n",
       "      <th>education</th>\n",
       "      <th>default</th>\n",
       "      <th>balance</th>\n",
       "      <th>housing</th>\n",
       "      <th>loan</th>\n",
       "      <th>contact</th>\n",
       "      <th>day</th>\n",
       "      <th>month</th>\n",
       "      <th>duration</th>\n",
       "      <th>campaign</th>\n",
       "      <th>pdays</th>\n",
       "      <th>previous</th>\n",
       "      <th>poutcome</th>\n",
       "      <th>subscribed</th>\n",
       "    </tr>\n",
       "  </thead>\n",
       "  <tbody>\n",
       "    <tr>\n",
       "      <th>0</th>\n",
       "      <td>26110</td>\n",
       "      <td>56</td>\n",
       "      <td>admin.</td>\n",
       "      <td>married</td>\n",
       "      <td>unknown</td>\n",
       "      <td>no</td>\n",
       "      <td>1933</td>\n",
       "      <td>no</td>\n",
       "      <td>no</td>\n",
       "      <td>telephone</td>\n",
       "      <td>19</td>\n",
       "      <td>nov</td>\n",
       "      <td>44</td>\n",
       "      <td>2</td>\n",
       "      <td>-1</td>\n",
       "      <td>0</td>\n",
       "      <td>unknown</td>\n",
       "      <td>no</td>\n",
       "    </tr>\n",
       "    <tr>\n",
       "      <th>1</th>\n",
       "      <td>40576</td>\n",
       "      <td>31</td>\n",
       "      <td>unknown</td>\n",
       "      <td>married</td>\n",
       "      <td>secondary</td>\n",
       "      <td>no</td>\n",
       "      <td>3</td>\n",
       "      <td>no</td>\n",
       "      <td>no</td>\n",
       "      <td>cellular</td>\n",
       "      <td>20</td>\n",
       "      <td>jul</td>\n",
       "      <td>91</td>\n",
       "      <td>2</td>\n",
       "      <td>-1</td>\n",
       "      <td>0</td>\n",
       "      <td>unknown</td>\n",
       "      <td>no</td>\n",
       "    </tr>\n",
       "    <tr>\n",
       "      <th>2</th>\n",
       "      <td>15320</td>\n",
       "      <td>27</td>\n",
       "      <td>services</td>\n",
       "      <td>married</td>\n",
       "      <td>secondary</td>\n",
       "      <td>no</td>\n",
       "      <td>891</td>\n",
       "      <td>yes</td>\n",
       "      <td>no</td>\n",
       "      <td>cellular</td>\n",
       "      <td>18</td>\n",
       "      <td>jul</td>\n",
       "      <td>240</td>\n",
       "      <td>1</td>\n",
       "      <td>-1</td>\n",
       "      <td>0</td>\n",
       "      <td>unknown</td>\n",
       "      <td>no</td>\n",
       "    </tr>\n",
       "    <tr>\n",
       "      <th>3</th>\n",
       "      <td>43962</td>\n",
       "      <td>57</td>\n",
       "      <td>management</td>\n",
       "      <td>divorced</td>\n",
       "      <td>tertiary</td>\n",
       "      <td>no</td>\n",
       "      <td>3287</td>\n",
       "      <td>no</td>\n",
       "      <td>no</td>\n",
       "      <td>cellular</td>\n",
       "      <td>22</td>\n",
       "      <td>jun</td>\n",
       "      <td>867</td>\n",
       "      <td>1</td>\n",
       "      <td>84</td>\n",
       "      <td>3</td>\n",
       "      <td>success</td>\n",
       "      <td>yes</td>\n",
       "    </tr>\n",
       "    <tr>\n",
       "      <th>4</th>\n",
       "      <td>29842</td>\n",
       "      <td>31</td>\n",
       "      <td>technician</td>\n",
       "      <td>married</td>\n",
       "      <td>secondary</td>\n",
       "      <td>no</td>\n",
       "      <td>119</td>\n",
       "      <td>yes</td>\n",
       "      <td>no</td>\n",
       "      <td>cellular</td>\n",
       "      <td>4</td>\n",
       "      <td>feb</td>\n",
       "      <td>380</td>\n",
       "      <td>1</td>\n",
       "      <td>-1</td>\n",
       "      <td>0</td>\n",
       "      <td>unknown</td>\n",
       "      <td>no</td>\n",
       "    </tr>\n",
       "  </tbody>\n",
       "</table>\n",
       "</div>"
      ],
      "text/plain": [
       "      ID  age         job   marital  education default  balance housing loan  \\\n",
       "0  26110   56      admin.   married    unknown      no     1933      no   no   \n",
       "1  40576   31     unknown   married  secondary      no        3      no   no   \n",
       "2  15320   27    services   married  secondary      no      891     yes   no   \n",
       "3  43962   57  management  divorced   tertiary      no     3287      no   no   \n",
       "4  29842   31  technician   married  secondary      no      119     yes   no   \n",
       "\n",
       "     contact  day month  duration  campaign  pdays  previous poutcome  \\\n",
       "0  telephone   19   nov        44         2     -1         0  unknown   \n",
       "1   cellular   20   jul        91         2     -1         0  unknown   \n",
       "2   cellular   18   jul       240         1     -1         0  unknown   \n",
       "3   cellular   22   jun       867         1     84         3  success   \n",
       "4   cellular    4   feb       380         1     -1         0  unknown   \n",
       "\n",
       "  subscribed  \n",
       "0         no  \n",
       "1         no  \n",
       "2         no  \n",
       "3        yes  \n",
       "4         no  "
      ]
     },
     "execution_count": 2,
     "metadata": {},
     "output_type": "execute_result"
    }
   ],
   "source": [
    "term_deposit_subscription = pd.read_csv('https://raw.githubusercontent.com/KevinJianLin/term_deposit_subscription/refs/heads/main/data/train.csv')\n",
    "data_set = term_deposit_subscription.copy()\n",
    "data_set.head(5)\n",
    "data_profile = data_profiling(data_set)\n",
    "#data_profile()\n",
    "# data_profile.float_column\n",
    "# data_profile.int_column\n",
    "# data_profile.rest_columns\n",
    "# data_profile.cat_col\n",
    "target_variable = 'subscribed' \n",
    "\n",
    "# Prepare the feature matrix and target\n",
    "X = data_set[data_profile.int_column]\n",
    "y = data_set[target_variable]\n",
    "label_encoder = LabelEncoder()\n",
    "\n",
    "# Transform 'yes'/'no' to 1/0\n",
    "y = label_encoder.fit_transform(y)\n",
    "\n",
    "# Split the dataset\n",
    "X_train, X_test, y_train, y_test = train_test_split(X, y, test_size=0.2, random_state=42)\n"
   ]
  },
  {
   "cell_type": "code",
   "execution_count": null,
   "metadata": {},
   "outputs": [],
   "source": []
  },
  {
   "cell_type": "code",
   "execution_count": 3,
   "metadata": {},
   "outputs": [],
   "source": [
    "data_preprocessor_1 = ColumnTransformer(transformers = [\n",
    "                                   #         ('text', TfidfVectorizer(max_features=500), text_col),\n",
    "                                            ('float_col',StandardScaler(),data_profile.int_column),\n",
    "                                        #    ('cat_col', OneHotEncoder(), cat_col),\n",
    "                                            ]) \n",
    "\n",
    "label_encoder = LabelEncoder()\n",
    "data_set[target_variable] = label_encoder.fit_transform(data_set[target_variable])\n"
   ]
  },
  {
   "cell_type": "code",
   "execution_count": null,
   "metadata": {},
   "outputs": [],
   "source": []
  },
  {
   "cell_type": "code",
   "execution_count": null,
   "metadata": {},
   "outputs": [],
   "source": []
  },
  {
   "cell_type": "markdown",
   "metadata": {},
   "source": [
    "## <a id='toc1_1_'></a>[Feature selection](#toc0_)"
   ]
  },
  {
   "cell_type": "markdown",
   "metadata": {},
   "source": [
    "### <a id='toc1_1_1_'></a>[Principle Component Analysis](#toc0_)\n",
    "\n",
    "### <a id='toc1_1_2_'></a>[Feature importance from tree-based models (e.g., Random Forest)](#toc0_)\n",
    "Permutation importance\n",
    "SHAP (SHapley Additive exPlanations) values\n",
    "Recursive feature elimination\n",
    "Lasso regularization"
   ]
  },
  {
   "cell_type": "markdown",
   "metadata": {},
   "source": [
    "### "
   ]
  },
  {
   "cell_type": "markdown",
   "metadata": {},
   "source": [
    "# <a id='toc2_'></a>[model](#toc0_)"
   ]
  },
  {
   "cell_type": "code",
   "execution_count": null,
   "metadata": {},
   "outputs": [],
   "source": [
    "\n"
   ]
  },
  {
   "cell_type": "code",
   "execution_count": null,
   "metadata": {},
   "outputs": [],
   "source": []
  },
  {
   "cell_type": "code",
   "execution_count": null,
   "metadata": {},
   "outputs": [],
   "source": [
    "\n"
   ]
  },
  {
   "cell_type": "code",
   "execution_count": 4,
   "metadata": {},
   "outputs": [
    {
     "ename": "NameError",
     "evalue": "name 'accuracy_score' is not defined",
     "output_type": "error",
     "traceback": [
      "\u001b[0;31m---------------------------------------------------------------------------\u001b[0m",
      "\u001b[0;31mNameError\u001b[0m                                 Traceback (most recent call last)",
      "Cell \u001b[0;32mIn[4], line 31\u001b[0m\n\u001b[1;32m     26\u001b[0m y_pred_proba \u001b[38;5;241m=\u001b[39m model_trained\u001b[38;5;241m.\u001b[39mpredict_proba(X_test)[:, \u001b[38;5;241m1\u001b[39m] \u001b[38;5;66;03m# Extract probabilities for class 1\u001b[39;00m\n\u001b[1;32m     30\u001b[0m \u001b[38;5;66;03m# Basic Metrics\u001b[39;00m\n\u001b[0;32m---> 31\u001b[0m accuracy \u001b[38;5;241m=\u001b[39m \u001b[43maccuracy_score\u001b[49m(y_test, y_pred)\n\u001b[1;32m     32\u001b[0m precision \u001b[38;5;241m=\u001b[39m precision_score(y_test, y_pred) \n\u001b[1;32m     33\u001b[0m recall \u001b[38;5;241m=\u001b[39m recall_score(y_test, y_pred) \u001b[38;5;66;03m# \u001b[39;00m\n",
      "\u001b[0;31mNameError\u001b[0m: name 'accuracy_score' is not defined"
     ]
    }
   ],
   "source": [
    "best_model ={}\n",
    "results = {}\n",
    "\n",
    "# Loop through models and apply GridSearchCV\n",
    "for model_name, model_infor in model_parameters_classification.items():\n",
    "\n",
    "\n",
    "    # Create a pipeline for each model\n",
    "    pipeline = Pipeline([('preprocessor',data_preprocessor_1),\n",
    "                         ('classifier',model_infor['model'])])\n",
    "    \n",
    "    # Initialize GridSearchCV with model and parameter grid\n",
    "    grid_search = GridSearchCV(estimator=pipeline,\n",
    "                                param_grid = model_infor['params'],\n",
    "                                cv = 5, # 5 fold cv\n",
    "                                scoring = 'accuracy', # f1 etc\n",
    "                                verbose =0, # not to display output\n",
    "                                n_jobs = -1 # use all of cores\n",
    "                                )\n",
    "    model_trained = grid_search.fit(X_train, y_train)\n",
    "\n",
    "    best_model[model_name] = model_trained.best_estimator_\n",
    "    #print(f\"Best Parameters for {model_name}: {grid_search.best_params_}\")\n",
    "\n",
    "    y_pred       = model_trained.predict(X_test)\n",
    "    y_pred_proba = model_trained.predict_proba(X_test)[:, 1] # Extract probabilities for class 1\n",
    "\n",
    "\n",
    "\n",
    "    # Basic Metrics\n",
    "    accuracy = accuracy_score(y_test, y_pred)\n",
    "    precision = precision_score(y_test, y_pred) \n",
    "    recall = recall_score(y_test, y_pred) # \n",
    "    f1 = f1_score(y_test, y_pred) # \n",
    "\n",
    "    # Confusion Matrix\n",
    "    conf_matrix = confusion_matrix(y_test, y_pred)\n",
    "\n",
    "    # Probabilistic Metrics\n",
    "    roc_auc = roc_auc_score(y_test, y_pred_proba)\n",
    "    logloss = log_loss(y_test, y_pred_proba)\n",
    "\n",
    "    # Advanced Metrics\n",
    "    mcc = matthews_corrcoef(y_test, y_pred)\n",
    "    kappa = cohen_kappa_score(y_test, y_pred)\n",
    "    balanced_acc = balanced_accuracy_score(y_test, y_pred)\n",
    "\n",
    "    results[model_name] = {'accuracy': accuracy,\n",
    "                           'precision': precision,\n",
    "                           'recall':recall,\n",
    "                           'f1': f1,\n",
    "                           'logloss': logloss,\n",
    "                           'mcc': mcc,\n",
    "                           'kappa': kappa,\n",
    "                           'balanced_acc': balanced_acc,\n",
    "                           'Best Params': grid_search.best_params_\n",
    "                           }\n",
    "\n",
    "    results_df = pd.DataFrame(results).T  # Transpose for readability\n",
    "\n",
    "\n",
    "    # print(f\"Classification Report for {model_name}:\\n\")\n",
    "    # print(classification_report(y_test, y_pred, target_names = label_encoder.classes_))\n",
    "\n",
    "    #print(model_infor['model'])\n",
    "results_df   "
   ]
  },
  {
   "cell_type": "code",
   "execution_count": null,
   "metadata": {},
   "outputs": [],
   "source": []
  },
  {
   "cell_type": "code",
   "execution_count": null,
   "metadata": {},
   "outputs": [],
   "source": []
  }
 ],
 "metadata": {
  "kernelspec": {
   "display_name": "Python 3",
   "language": "python",
   "name": "python3"
  },
  "language_info": {
   "codemirror_mode": {
    "name": "ipython",
    "version": 3
   },
   "file_extension": ".py",
   "mimetype": "text/x-python",
   "name": "python",
   "nbconvert_exporter": "python",
   "pygments_lexer": "ipython3",
   "version": "3.10.9"
  }
 },
 "nbformat": 4,
 "nbformat_minor": 4
}
